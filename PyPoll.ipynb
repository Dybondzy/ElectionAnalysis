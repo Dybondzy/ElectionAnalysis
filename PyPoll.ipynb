{
 "cells": [
  {
   "cell_type": "code",
   "execution_count": 1,
   "metadata": {},
   "outputs": [
    {
     "name": "stdout",
     "output_type": "stream",
     "text": [
      "The time right now is  2021-03-05 23:11:40.705344\n",
      "<_io.TextIOWrapper name='Resources/election_results.csv' mode='r' encoding='cp1252'>\n"
     ]
    }
   ],
   "source": [
    "# In this project, our final Python script will need to be able to deliver the following information when the script is run: \n",
    "\n",
    "# Total number of votes cast\n",
    "# A complete list of candidates who received votes\n",
    "# Total number of votes each candidate received\n",
    "# Percentage of votes each candidate won\n",
    "# The winner of the election based on popular vote\n",
    "\n",
    "# Import the datetime class from the datetime module.\n",
    "import datetime\n",
    "# Use the now() attribute on the datetime class to get the present time.\n",
    "now = datetime.datetime.now()\n",
    "# Print the present time.\n",
    "print(\"The time right now is \", now)\n",
    "\n",
    "# Assign a variable for the file to load and the path.\n",
    "file_to_load = 'Resources/election_results.csv'\n",
    "\n",
    "# Open the election results and read the file.\n",
    "election_data = open(file_to_load, 'r')\n",
    "\n",
    "# To do: perform analysis.\n",
    "\n",
    "     # To do: perform analysis.\n",
    "print(election_data)\n",
    "    \n",
    "    \n",
    "# Close the file.\n",
    "election_data.close()"
   ]
  },
  {
   "cell_type": "code",
   "execution_count": 2,
   "metadata": {},
   "outputs": [
    {
     "name": "stdout",
     "output_type": "stream",
     "text": [
      "<_io.TextIOWrapper name='Resources\\\\election_results.csv' mode='r' encoding='cp1252'>\n"
     ]
    }
   ],
   "source": [
    "import csv\n",
    "import os\n",
    "# Assign a variable for the file to load and the path.\n",
    "file_to_load = os.path.join(\"Resources\", \"election_results.csv\")\n",
    "# Open the election results and read the file.\n",
    "with open(file_to_load) as election_data:\n",
    "\n",
    "    # Print the file object.\n",
    "     print(election_data)"
   ]
  },
  {
   "cell_type": "code",
   "execution_count": 3,
   "metadata": {},
   "outputs": [
    {
     "ename": "SyntaxError",
     "evalue": "EOL while scanning string literal (<ipython-input-3-b2a697bc5372>, line 17)",
     "output_type": "error",
     "traceback": [
      "\u001b[1;36m  File \u001b[1;32m\"<ipython-input-3-b2a697bc5372>\"\u001b[1;36m, line \u001b[1;32m17\u001b[0m\n\u001b[1;33m    'for row in file_reader:\u001b[0m\n\u001b[1;37m                            ^\u001b[0m\n\u001b[1;31mSyntaxError\u001b[0m\u001b[1;31m:\u001b[0m EOL while scanning string literal\n"
     ]
    }
   ],
   "source": [
    "# Add our dependencies.\n",
    "import csv\n",
    "import os\n",
    "# Assign a variable to load a file from a path.\n",
    "file_to_load = os.path.join(\"Resources\", \"election_results.csv\")\n",
    "# Assign a variable to save the file to a path.\n",
    "file_to_save = os.path.join(\"analysis\", \"election_analysis.txt\")\n",
    "\n",
    "# Open the election results and read the file.\n",
    "with open(file_to_load) as election_data:\n",
    "\n",
    "    # To do: read and analyze the data here.\n",
    "        # Read the file object with the reader function.\n",
    "    file_reader = csv.reader(election_data)\n",
    "    \n",
    "        # Print each row in the CSV file.\n",
    "    'for row in file_reader:\n",
    "        print(row)"
   ]
  },
  {
   "cell_type": "code",
   "execution_count": 4,
   "metadata": {},
   "outputs": [
    {
     "name": "stdout",
     "output_type": "stream",
     "text": [
      "369711\n"
     ]
    }
   ],
   "source": [
    "# Add our dependencies.\n",
    "import csv\n",
    "import os\n",
    "# Assign a variable to load a file from a path.\n",
    "file_to_load = os.path.join(\"Resources\", \"election_results.csv\")\n",
    "# Assign a variable to save the file to a path.\n",
    "file_to_save = os.path.join(\"analysis\", \"election_analysis.txt\")\n",
    "\n",
    "# 1. Initialize a total vote counter.\n",
    "total_votes = 0\n",
    "\n",
    "# Open the election results and read the file\n",
    "with open(file_to_load) as election_data:\n",
    "    file_reader = csv.reader(election_data)\n",
    "\n",
    "    # Read the header row.\n",
    "    headers = next(file_reader)\n",
    "\n",
    "    # Print each row in the CSV file.\n",
    "    for row in file_reader:\n",
    "        # 2. Add to the total vote count.\n",
    "        total_votes += 1\n",
    "\n",
    "# 3. Print the total votes.\n",
    "print(total_votes)"
   ]
  },
  {
   "cell_type": "code",
   "execution_count": 5,
   "metadata": {},
   "outputs": [
    {
     "name": "stderr",
     "output_type": "stream",
     "text": [
      "IOPub data rate exceeded.\n",
      "The notebook server will temporarily stop sending output\n",
      "to the client in order to avoid crashing it.\n",
      "To change this limit, set the config variable\n",
      "`--NotebookApp.iopub_data_rate_limit`.\n",
      "\n",
      "Current values:\n",
      "NotebookApp.iopub_data_rate_limit=1000000.0 (bytes/sec)\n",
      "NotebookApp.rate_limit_window=3.0 (secs)\n",
      "\n"
     ]
    }
   ],
   "source": [
    "# Add our dependencies.\n",
    "import csv\n",
    "import os\n",
    "# Assign a variable to load a file from a path.\n",
    "file_to_load = os.path.join(\"Resources\", \"election_results.csv\")\n",
    "# Assign a variable to save the file to a path.\n",
    "file_to_save = os.path.join(\"analysis\", \"election_analysis.txt\")\n",
    "\n",
    "# Initialize a total vote counter.\n",
    "total_votes = 0\n",
    "\n",
    "# Candidate Options\n",
    "candidate_options = []\n",
    "\n",
    "# Open the election results and read the file.\n",
    "with open(file_to_load) as election_data:\n",
    "    file_reader = csv.reader(election_data)\n",
    "\n",
    "    # Read the header row.\n",
    "    headers = next(file_reader)\n",
    "\n",
    "    # Print each row in the CSV file.\n",
    "    for row in file_reader:\n",
    "        # Add to the total vote count.\n",
    "        total_votes += 1\n",
    "\n",
    "        # Print the candidate name from each row.\n",
    "        candidate_name = row[2]\n",
    "\n",
    "        # Add the candidate name to the candidate list.\n",
    "        candidate_options.append(candidate_name)\n",
    "\n",
    "# Print the candidate list.\n",
    "print(candidate_options)"
   ]
  },
  {
   "cell_type": "code",
   "execution_count": 6,
   "metadata": {},
   "outputs": [
    {
     "ename": "IndentationError",
     "evalue": "unexpected indent (<ipython-input-6-f4c36d86594a>, line 2)",
     "output_type": "error",
     "traceback": [
      "\u001b[1;36m  File \u001b[1;32m\"<ipython-input-6-f4c36d86594a>\"\u001b[1;36m, line \u001b[1;32m2\u001b[0m\n\u001b[1;33m    for row in file_reader:\u001b[0m\n\u001b[1;37m    ^\u001b[0m\n\u001b[1;31mIndentationError\u001b[0m\u001b[1;31m:\u001b[0m unexpected indent\n"
     ]
    }
   ],
   "source": [
    "# Print each row in the CSV file.\n",
    "    for row in file_reader:\n",
    "        # Add to the total vote count.\n",
    "        total_votes += 1\n",
    "\n",
    "        # Print the candidate name from each row.\n",
    "        candidate_name = row[2]\n",
    "\n",
    "        # If the candidate does not match any existing candidate...\n",
    "        if candidate_name not in candidate_options:\n",
    "            # Add it to the list of candidates.\n",
    "            candidate_options.append(candidate_name)\n",
    "\n",
    "# Print the candidate list.\n",
    "print(candidate_options)"
   ]
  },
  {
   "cell_type": "code",
   "execution_count": 7,
   "metadata": {},
   "outputs": [
    {
     "name": "stdout",
     "output_type": "stream",
     "text": [
      "['Charles Casper Stockham', 'Diana DeGette', 'Raymon Anthony Doane']\n"
     ]
    }
   ],
   "source": [
    "# Add our dependencies.\n",
    "import csv\n",
    "import os\n",
    "# Assign a variable to load a file from a path.\n",
    "file_to_load = os.path.join(\"Resources\", \"election_results.csv\")\n",
    "# Assign a variable to save the file to a path.\n",
    "file_to_save = os.path.join(\"analysis\", \"election_analysis.txt\")\n",
    "\n",
    "# Initialize a total vote counter.\n",
    "total_votes = 0\n",
    "\n",
    "# Candidate Options\n",
    "candidate_options = []\n",
    "\n",
    "# Open the election results and read the file.\n",
    "with open(file_to_load) as election_data:\n",
    "    file_reader = csv.reader(election_data)\n",
    "\n",
    "    # Read the header row.\n",
    "    headers = next(file_reader)\n",
    "    # Print each row in the CSV file.\n",
    "    for row in file_reader:\n",
    "        # Add to the total vote count.\n",
    "        total_votes += 1\n",
    "\n",
    "        # Print the candidate name from each row.\n",
    "        candidate_name = row[2]\n",
    "\n",
    "        # If the candidate does not match any existing candidate...\n",
    "        if candidate_name not in candidate_options:\n",
    "            # Add it to the list of candidates.\n",
    "            candidate_options.append(candidate_name)\n",
    "\n",
    "# Print the candidate list.\n",
    "print(candidate_options)"
   ]
  },
  {
   "cell_type": "code",
   "execution_count": 8,
   "metadata": {},
   "outputs": [
    {
     "name": "stdout",
     "output_type": "stream",
     "text": [
      "{'Charles Casper Stockham': 0, 'Diana DeGette': 0, 'Raymon Anthony Doane': 0}\n"
     ]
    }
   ],
   "source": [
    "# Add our dependencies.\n",
    "import csv\n",
    "import os\n",
    "# Assign a variable to load a file from a path.\n",
    "file_to_load = os.path.join(\"Resources\", \"election_results.csv\")\n",
    "# Assign a variable to save the file to a path.\n",
    "file_to_save = os.path.join(\"analysis\", \"election_analysis.txt\")\n",
    "\n",
    "# Initialize a total vote counter.\n",
    "total_votes = 0\n",
    "\n",
    "# Candidate options and candidate votes\n",
    "candidate_options = []\n",
    "# 1. Declare the empty dictionary.\n",
    "candidate_votes = {}\n",
    "\n",
    "# Open the election results and read the file.\n",
    "with open(file_to_load) as election_data:\n",
    "    file_reader = csv.reader(election_data)\n",
    "\n",
    "    # Read the header row.\n",
    "    headers = next(file_reader)\n",
    "\n",
    "    # Print each row in the CSV file.\n",
    "    for row in file_reader:\n",
    "        # Add to the total vote count.\n",
    "        total_votes += 1\n",
    "\n",
    "        # Print the candidate name from each row.\n",
    "        candidate_name = row[2]\n",
    "\n",
    "        if candidate_name not in candidate_options:\n",
    "          # Add the candidate name to the candidate list.\n",
    "            candidate_options.append(candidate_name)\n",
    "\n",
    "           # 2. Begin tracking that candidate's vote count.\n",
    "            candidate_votes[candidate_name] = 0\n",
    "\n",
    "\n",
    "# Print the candidate vote dictionary.\n",
    "print(candidate_votes)"
   ]
  },
  {
   "cell_type": "code",
   "execution_count": 10,
   "metadata": {},
   "outputs": [
    {
     "ename": "IndentationError",
     "evalue": "unindent does not match any outer indentation level (<tokenize>, line 41)",
     "output_type": "error",
     "traceback": [
      "\u001b[1;36m  File \u001b[1;32m\"<tokenize>\"\u001b[1;36m, line \u001b[1;32m41\u001b[0m\n\u001b[1;33m    candidate_votes[candidate_name] += 1\u001b[0m\n\u001b[1;37m    ^\u001b[0m\n\u001b[1;31mIndentationError\u001b[0m\u001b[1;31m:\u001b[0m unindent does not match any outer indentation level\n"
     ]
    }
   ],
   "source": [
    "# Add our dependencies.\n",
    "import csv\n",
    "import os\n",
    "# Assign a variable to load a file from a path.\n",
    "file_to_load = os.path.join(\"Resources\", \"election_results.csv\")\n",
    "# Assign a variable to save the file to a path.\n",
    "file_to_save = os.path.join(\"analysis\", \"election_analysis.txt\")\n",
    "\n",
    "# Initialize a total vote counter.\n",
    "total_votes = 0\n",
    "\n",
    "# Candidate options and candidate votes\n",
    "candidate_options = []\n",
    "# 1. Declare the empty dictionary.\n",
    "candidate_votes = {}\n",
    "\n",
    "# Open the election results and read the file.\n",
    "with open(file_to_load) as election_data:\n",
    "    file_reader = csv.reader(election_data)\n",
    "\n",
    "    # Read the header row.\n",
    "    headers = next(file_reader)\n",
    "\n",
    "    # Print each row in the CSV file.\n",
    "    for row in file_reader:\n",
    "        # Add to the total vote count.\n",
    "        total_votes += 1\n",
    "\n",
    "        # Print the candidate name from each row.\n",
    "        candidate_name = row[2]\n",
    "\n",
    "        if candidate_name not in candidate_options:\n",
    "\n",
    "            # Add the candidate name to the candidate list.\n",
    "            candidate_options.append(candidate_name)\n",
    "\n",
    "           # Begin tracking that candidate's vote count.\n",
    "            candidate_votes[candidate_name] = 0\n",
    "\n",
    "        # Add a vote to that candidate's count\n",
    "        candidate_votes[candidate_name] += 1\n",
    "\n",
    "\n",
    "# Print the candidate vote dictionary.\n",
    "print(candidate_votes)"
   ]
  },
  {
   "cell_type": "code",
   "execution_count": 11,
   "metadata": {},
   "outputs": [
    {
     "name": "stdout",
     "output_type": "stream",
     "text": [
      "{'Charles Casper Stockham': 85213, 'Diana DeGette': 272892, 'Raymon Anthony Doane': 11606}\n"
     ]
    }
   ],
   "source": [
    "# Add our dependencies.\n",
    "import csv\n",
    "import os\n",
    "# Assign a variable to load a file from a path.\n",
    "file_to_load = os.path.join(\"Resources\", \"election_results.csv\")\n",
    "# Assign a variable to save the file to a path.\n",
    "file_to_save = os.path.join(\"analysis\", \"election_analysis.txt\")\n",
    "\n",
    "# Initialize a total vote counter.\n",
    "total_votes = 0\n",
    "\n",
    "# Candidate options and candidate votes\n",
    "candidate_options = []\n",
    "# 1. Declare the empty dictionary.\n",
    "candidate_votes = {}\n",
    "\n",
    "# Open the election results and read the file.\n",
    "with open(file_to_load) as election_data:\n",
    "    file_reader = csv.reader(election_data)\n",
    "\n",
    "    # Read the header row.\n",
    "    headers = next(file_reader)\n",
    "\n",
    "    # Print each row in the CSV file.\n",
    "    for row in file_reader:\n",
    "        # Add to the total vote count.\n",
    "        total_votes += 1\n",
    "\n",
    "        # Print the candidate name from each row.\n",
    "        candidate_name = row[2]\n",
    "\n",
    "        if candidate_name not in candidate_options:\n",
    "\n",
    "            # Add the candidate name to the candidate list.\n",
    "            candidate_options.append(candidate_name)\n",
    "\n",
    "           # Begin tracking that candidate's vote count.\n",
    "            candidate_votes[candidate_name] = 0\n",
    "\n",
    "        # Add a vote to that candidate's count\n",
    "        candidate_votes[candidate_name] += 1\n",
    "\n",
    "\n",
    "# Print the candidate vote dictionary.\n",
    "print(candidate_votes)"
   ]
  },
  {
   "cell_type": "code",
   "execution_count": 12,
   "metadata": {},
   "outputs": [
    {
     "name": "stdout",
     "output_type": "stream",
     "text": [
      "Charles Casper Stockham: received 23.04854332167558% of the vote.\n",
      "Diana DeGette: received 73.81224794501652% of the vote.\n",
      "Raymon Anthony Doane: received 3.1392087333079077% of the vote.\n"
     ]
    }
   ],
   "source": [
    "# Determine the percentage of votes for each candidate by looping through the counts.\n",
    "# 1. Iterate through the candidate list.\n",
    "for candidate_name in candidate_votes:\n",
    "    # 2. Retrieve vote count of a candidate.\n",
    "    votes = candidate_votes[candidate_name]\n",
    "    # 3. Calculate the percentage of votes.\n",
    "    vote_percentage = float(votes) / float(total_votes) * 100\n",
    "    # 4. Print the candidate name and percentage of votes.\n",
    "    print(f\"{candidate_name}: received {vote_percentage}% of the vote.\")"
   ]
  },
  {
   "cell_type": "code",
   "execution_count": 13,
   "metadata": {},
   "outputs": [
    {
     "name": "stdout",
     "output_type": "stream",
     "text": [
      "Charles Casper Stockham: received 23.05% of the vote.\n",
      "Diana DeGette: received 73.81% of the vote.\n",
      "Raymon Anthony Doane: received 3.14% of the vote.\n"
     ]
    }
   ],
   "source": [
    "# Determine the percentage of votes for each candidate by looping through the counts.\n",
    "# 1. Iterate through the candidate list.\n",
    "for candidate_name in candidate_votes:\n",
    "    # 2. Retrieve vote count of a candidate.\n",
    "    votes = candidate_votes[candidate_name]\n",
    "    # 3. Calculate the percentage of votes.\n",
    "    vote_percentage = float(votes) / float(total_votes) * 100\n",
    "    # 4. Print the candidate name and percentage of votes.\n",
    "    print(f\"{candidate_name}: received {round(vote_percentage,2)}% of the vote.\")"
   ]
  },
  {
   "cell_type": "code",
   "execution_count": 14,
   "metadata": {},
   "outputs": [
    {
     "name": "stdout",
     "output_type": "stream",
     "text": [
      "Charles Casper Stockham: received 23.0% of the vote.\n",
      "Diana DeGette: received 73.8% of the vote.\n",
      "Raymon Anthony Doane: received 3.1% of the vote.\n"
     ]
    }
   ],
   "source": [
    "# Determine the percentage of votes for each candidate by looping through the counts.\n",
    "# 1. Iterate through the candidate list.\n",
    "for candidate_name in candidate_votes:\n",
    "    # 2. Retrieve vote count of a candidate.\n",
    "    votes = candidate_votes[candidate_name]\n",
    "    # 3. Calculate the percentage of votes.\n",
    "    vote_percentage = float(votes) / float(total_votes) * 100\n",
    "    # 4. Print the candidate name and percentage of votes.\n",
    "    print(f\"{candidate_name}: received {round(vote_percentage,1)}% of the vote.\")"
   ]
  },
  {
   "cell_type": "code",
   "execution_count": 15,
   "metadata": {},
   "outputs": [
    {
     "ename": "NameError",
     "evalue": "name 'winning_count' is not defined",
     "output_type": "error",
     "traceback": [
      "\u001b[1;31m---------------------------------------------------------------------------\u001b[0m",
      "\u001b[1;31mNameError\u001b[0m                                 Traceback (most recent call last)",
      "\u001b[1;32m<ipython-input-15-9d78b00ba70e>\u001b[0m in \u001b[0;36m<module>\u001b[1;34m\u001b[0m\n\u001b[0;32m      1\u001b[0m \u001b[1;31m# Determine winning vote count and candidate\u001b[0m\u001b[1;33m\u001b[0m\u001b[1;33m\u001b[0m\u001b[1;33m\u001b[0m\u001b[0m\n\u001b[0;32m      2\u001b[0m \u001b[1;31m# 1. Determine if the votes are greater than the winning count.\u001b[0m\u001b[1;33m\u001b[0m\u001b[1;33m\u001b[0m\u001b[1;33m\u001b[0m\u001b[0m\n\u001b[1;32m----> 3\u001b[1;33m \u001b[1;32mif\u001b[0m \u001b[1;33m(\u001b[0m\u001b[0mvotes\u001b[0m \u001b[1;33m>\u001b[0m \u001b[0mwinning_count\u001b[0m\u001b[1;33m)\u001b[0m \u001b[1;32mand\u001b[0m \u001b[1;33m(\u001b[0m\u001b[0mvote_percentage\u001b[0m \u001b[1;33m>\u001b[0m \u001b[0mwinning_percentage\u001b[0m\u001b[1;33m)\u001b[0m\u001b[1;33m:\u001b[0m\u001b[1;33m\u001b[0m\u001b[1;33m\u001b[0m\u001b[0m\n\u001b[0m\u001b[0;32m      4\u001b[0m      \u001b[1;31m# 2. If true then set winning_count = votes and winning_percent =\u001b[0m\u001b[1;33m\u001b[0m\u001b[1;33m\u001b[0m\u001b[1;33m\u001b[0m\u001b[0m\n\u001b[0;32m      5\u001b[0m      \u001b[1;31m# vote_percentage.\u001b[0m\u001b[1;33m\u001b[0m\u001b[1;33m\u001b[0m\u001b[1;33m\u001b[0m\u001b[0m\n",
      "\u001b[1;31mNameError\u001b[0m: name 'winning_count' is not defined"
     ]
    }
   ],
   "source": [
    "# Determine winning vote count and candidate\n",
    "# 1. Determine if the votes are greater than the winning count.\n",
    "if (votes > winning_count) and (vote_percentage > winning_percentage):\n",
    "     # 2. If true then set winning_count = votes and winning_percent =\n",
    "     # vote_percentage.\n",
    "     winning_count = votes\n",
    "     winning_percentage = round(vote_percentage,1)\n",
    "     # 3. Set the winning_candidate equal to the candidate's name.\n",
    "     winning_candidate = candidate_name"
   ]
  },
  {
   "cell_type": "code",
   "execution_count": 16,
   "metadata": {},
   "outputs": [],
   "source": [
    "# Winning Candidate and Winning Count Tracker\n",
    "winning_candidate = \"\"\n",
    "winning_count = 0\n",
    "winning_percentage = 0\n",
    "# Determine winning vote count and candidate\n",
    "# 1. Determine if the votes are greater than the winning count.\n",
    "if (votes > winning_count) and (vote_percentage > winning_percentage):\n",
    "     # 2. If true then set winning_count = votes and winning_percent =\n",
    "     # vote_percentage.\n",
    "     winning_count = votes\n",
    "     winning_percentage = round(vote_percentage,1)\n",
    "     # 3. Set the winning_candidate equal to the candidate's name.\n",
    "     winning_candidate = candidate_name"
   ]
  },
  {
   "cell_type": "code",
   "execution_count": 17,
   "metadata": {},
   "outputs": [],
   "source": [
    "# Determine the percentage of votes for each candidate by looping through the counts.\n",
    "# Iterate through the candidate list.\n",
    "for candidate_name in candidate_votes:\n",
    "    # Retrieve vote count of a candidate.\n",
    "    votes = candidate_votes[candidate_name]\n",
    "    # Calculate the percentage of votes.\n",
    "    vote_percentage = float(votes) / float(total_votes) * 100\n",
    "\n",
    "    #  To do: print out each candidate's name, vote count, and percentage of\n",
    "    # votes to the terminal.\n",
    "\n",
    "    # Determine winning vote count and candidate\n",
    "    # Determine if the votes is greater than the winning count.\n",
    "    if (votes > winning_count) and (vote_percentage > winning_percentage):\n",
    "         # If true then set winning_count = votes and winning_percent =\n",
    "         # vote_percentage.\n",
    "         winning_count = votes\n",
    "         winning_percentage = vote_percentage\n",
    "         # And, set the winning_candidate equal to the candidate's name.\n",
    "         winning_candidate = candidate_name\n",
    "\n",
    "#  To do: print out the winning candidate, vote count and percentage to\n",
    "#   terminal."
   ]
  },
  {
   "cell_type": "code",
   "execution_count": 18,
   "metadata": {},
   "outputs": [
    {
     "name": "stdout",
     "output_type": "stream",
     "text": [
      "Raymon Anthony Doane: 3.1% (11,606)\n",
      "\n"
     ]
    }
   ],
   "source": [
    "# Determine the percentage of votes for each candidate by looping through the counts.\n",
    "# Iterate through the candidate list.\n",
    "for candidate_name in candidate_votes:\n",
    "    # Retrieve vote count of a candidate.\n",
    "    votes = candidate_votes[candidate_name]\n",
    "    # Calculate the percentage of votes.\n",
    "    vote_percentage = float(votes) / float(total_votes) * 100\n",
    "\n",
    "    #  To do: print out each candidate's name, vote count, and percentage of\n",
    "    # votes to the terminal.\n",
    "\n",
    "    # Determine winning vote count and candidate\n",
    "    # Determine if the votes is greater than the winning count.\n",
    "    if (votes > winning_count) and (vote_percentage > winning_percentage):\n",
    "         # If true then set winning_count = votes and winning_percent =\n",
    "         # vote_percentage.\n",
    "         winning_count = votes\n",
    "         winning_percentage = round(vote_percentage,1)\n",
    "         # And, set the winning_candidate equal to the candidate's name.\n",
    "         winning_candidate = candidate_name\n",
    "\n",
    "#  To do: print out the winning candidate, vote count and percentage to\n",
    "#   terminal.\n",
    "# To do: print out each candidate's name, vote count, and percentage of\n",
    "# votes to the terminal.\n",
    "print(f\"{candidate_name}: {vote_percentage:.1f}% ({votes:,})\\n\")"
   ]
  },
  {
   "cell_type": "code",
   "execution_count": 19,
   "metadata": {},
   "outputs": [
    {
     "name": "stdout",
     "output_type": "stream",
     "text": [
      "-------------------------\n",
      "Winner: Diana DeGette\n",
      "Winning Vote Count: 272,892\n",
      "Winning Percentage: 73.8%\n",
      "-------------------------\n",
      "\n"
     ]
    }
   ],
   "source": [
    "winning_candidate_summary = (\n",
    "    f\"-------------------------\\n\"\n",
    "    f\"Winner: {winning_candidate}\\n\"\n",
    "    f\"Winning Vote Count: {winning_count:,}\\n\"\n",
    "    f\"Winning Percentage: {winning_percentage:.1f}%\\n\"\n",
    "    f\"-------------------------\\n\")\n",
    "print(winning_candidate_summary)"
   ]
  },
  {
   "cell_type": "code",
   "execution_count": 1,
   "metadata": {},
   "outputs": [],
   "source": [
    "# Add our dependencies.\n",
    "import csv\n",
    "import os\n",
    "# Assign a variable to load a file from a path.\n",
    "file_to_load = os.path.join(\"Resources\", \"election_results.csv\")\n",
    "# Assign a variable to save the file to a path.\n",
    "file_to_save = os.path.join(\"analysis\", \"election_analysis.txt\")"
   ]
  },
  {
   "cell_type": "code",
   "execution_count": 2,
   "metadata": {},
   "outputs": [
    {
     "ename": "NameError",
     "evalue": "name 'candidate_votes' is not defined",
     "output_type": "error",
     "traceback": [
      "\u001b[1;31m---------------------------------------------------------------------------\u001b[0m",
      "\u001b[1;31mNameError\u001b[0m                                 Traceback (most recent call last)",
      "\u001b[1;32m<ipython-input-2-dcac8566eec1>\u001b[0m in \u001b[0;36m<module>\u001b[1;34m\u001b[0m\n\u001b[0;32m      1\u001b[0m \u001b[1;31m# Determine the percentage of votes for each candidate by looping through the counts.\u001b[0m\u001b[1;33m\u001b[0m\u001b[1;33m\u001b[0m\u001b[1;33m\u001b[0m\u001b[0m\n\u001b[0;32m      2\u001b[0m \u001b[1;31m# 1. Iterate through the candidate list.\u001b[0m\u001b[1;33m\u001b[0m\u001b[1;33m\u001b[0m\u001b[1;33m\u001b[0m\u001b[0m\n\u001b[1;32m----> 3\u001b[1;33m \u001b[1;32mfor\u001b[0m \u001b[0mcandidate_name\u001b[0m \u001b[1;32min\u001b[0m \u001b[0mcandidate_votes\u001b[0m\u001b[1;33m:\u001b[0m\u001b[1;33m\u001b[0m\u001b[1;33m\u001b[0m\u001b[0m\n\u001b[0m\u001b[0;32m      4\u001b[0m     \u001b[1;31m# 2. Retrieve vote count of a candidate.\u001b[0m\u001b[1;33m\u001b[0m\u001b[1;33m\u001b[0m\u001b[1;33m\u001b[0m\u001b[0m\n\u001b[0;32m      5\u001b[0m     \u001b[0mvotes\u001b[0m \u001b[1;33m=\u001b[0m \u001b[0mcandidate_votes\u001b[0m\u001b[1;33m[\u001b[0m\u001b[0mcandidate_name\u001b[0m\u001b[1;33m]\u001b[0m\u001b[1;33m\u001b[0m\u001b[1;33m\u001b[0m\u001b[0m\n",
      "\u001b[1;31mNameError\u001b[0m: name 'candidate_votes' is not defined"
     ]
    }
   ],
   "source": [
    "# Determine the percentage of votes for each candidate by looping through the counts.\n",
    "# 1. Iterate through the candidate list.\n",
    "for candidate_name in candidate_votes:\n",
    "    # 2. Retrieve vote count of a candidate.\n",
    "    votes = candidate_votes[candidate_name]\n",
    "    # 3. Calculate the percentage of votes.\n",
    "    vote_percentage = float(votes) / float(total_votes) * 100\n",
    "    # 4. Print the candidate name and percentage of votes.\n",
    "    print(f\"{candidate_name}: received {vote_percentage}% of the vote.\")"
   ]
  },
  {
   "cell_type": "code",
   "execution_count": 3,
   "metadata": {},
   "outputs": [
    {
     "name": "stdout",
     "output_type": "stream",
     "text": [
      "{'Charles Casper Stockham': 85213, 'Diana DeGette': 272892, 'Raymon Anthony Doane': 11606}\n",
      "Charles Casper Stockham: received 23.05% of the vote.\n",
      "Diana DeGette: received 73.81% of the vote.\n",
      "Raymon Anthony Doane: received 3.14% of the vote.\n"
     ]
    }
   ],
   "source": [
    "# Add our dependencies.\n",
    "import csv\n",
    "import os\n",
    "# Assign a variable to load a file from a path.\n",
    "file_to_load = os.path.join(\"Resources\", \"election_results.csv\")\n",
    "# Assign a variable to save the file to a path.\n",
    "file_to_save = os.path.join(\"analysis\", \"election_analysis.txt\")\n",
    "\n",
    "# Initialize a total vote counter.\n",
    "total_votes = 0\n",
    "\n",
    "# Candidate options and candidate votes\n",
    "candidate_options = []\n",
    "# 1. Declare the empty dictionary.\n",
    "candidate_votes = {}\n",
    "\n",
    "# Open the election results and read the file.\n",
    "with open(file_to_load) as election_data:\n",
    "    file_reader = csv.reader(election_data)\n",
    "\n",
    "    # Read the header row.\n",
    "    headers = next(file_reader)\n",
    "\n",
    "    # Print each row in the CSV file.\n",
    "    for row in file_reader:\n",
    "        # Add to the total vote count.\n",
    "        total_votes += 1\n",
    "\n",
    "        # Print the candidate name from each row.\n",
    "        candidate_name = row[2]\n",
    "\n",
    "        if candidate_name not in candidate_options:\n",
    "\n",
    "            # Add the candidate name to the candidate list.\n",
    "            candidate_options.append(candidate_name)\n",
    "\n",
    "           # Begin tracking that candidate's vote count.\n",
    "            candidate_votes[candidate_name] = 0\n",
    "\n",
    "        # Add a vote to that candidate's count\n",
    "        candidate_votes[candidate_name] += 1\n",
    "\n",
    "\n",
    "# Print the candidate vote dictionary.\n",
    "print(candidate_votes)\n",
    "\n",
    "# Determine the percentage of votes for each candidate by looping through the counts.\n",
    "# 1. Iterate through the candidate list.\n",
    "for candidate_name in candidate_votes:\n",
    "    # 2. Retrieve vote count of a candidate.\n",
    "    votes = candidate_votes[candidate_name]\n",
    "    # 3. Calculate the percentage of votes.\n",
    "    vote_percentage = float(votes) / float(total_votes) * 100\n",
    "    # 4. Print the candidate name and percentage of votes.\n",
    "    print(f\"{candidate_name}: received {round(vote_percentage,2)}% of the vote.\")"
   ]
  },
  {
   "cell_type": "code",
   "execution_count": 4,
   "metadata": {},
   "outputs": [
    {
     "name": "stdout",
     "output_type": "stream",
     "text": [
      "{'Charles Casper Stockham': 85213, 'Diana DeGette': 272892, 'Raymon Anthony Doane': 11606}\n"
     ]
    },
    {
     "ename": "NameError",
     "evalue": "name 'winning_count' is not defined",
     "output_type": "error",
     "traceback": [
      "\u001b[1;31m---------------------------------------------------------------------------\u001b[0m",
      "\u001b[1;31mNameError\u001b[0m                                 Traceback (most recent call last)",
      "\u001b[1;32m<ipython-input-4-e3e4584ca314>\u001b[0m in \u001b[0;36m<module>\u001b[1;34m\u001b[0m\n\u001b[0;32m     57\u001b[0m     \u001b[1;31m# Determine winning vote count and candidate\u001b[0m\u001b[1;33m\u001b[0m\u001b[1;33m\u001b[0m\u001b[1;33m\u001b[0m\u001b[0m\n\u001b[0;32m     58\u001b[0m     \u001b[1;31m# Determine if the votes is greater than the winning count.\u001b[0m\u001b[1;33m\u001b[0m\u001b[1;33m\u001b[0m\u001b[1;33m\u001b[0m\u001b[0m\n\u001b[1;32m---> 59\u001b[1;33m     \u001b[1;32mif\u001b[0m \u001b[1;33m(\u001b[0m\u001b[0mvotes\u001b[0m \u001b[1;33m>\u001b[0m \u001b[0mwinning_count\u001b[0m\u001b[1;33m)\u001b[0m \u001b[1;32mand\u001b[0m \u001b[1;33m(\u001b[0m\u001b[0mvote_percentage\u001b[0m \u001b[1;33m>\u001b[0m \u001b[0mwinning_percentage\u001b[0m\u001b[1;33m)\u001b[0m\u001b[1;33m:\u001b[0m\u001b[1;33m\u001b[0m\u001b[1;33m\u001b[0m\u001b[0m\n\u001b[0m\u001b[0;32m     60\u001b[0m          \u001b[1;31m# If true then set winning_count = votes and winning_percent =\u001b[0m\u001b[1;33m\u001b[0m\u001b[1;33m\u001b[0m\u001b[1;33m\u001b[0m\u001b[0m\n\u001b[0;32m     61\u001b[0m          \u001b[1;31m# vote_percentage.\u001b[0m\u001b[1;33m\u001b[0m\u001b[1;33m\u001b[0m\u001b[1;33m\u001b[0m\u001b[0m\n",
      "\u001b[1;31mNameError\u001b[0m: name 'winning_count' is not defined"
     ]
    }
   ],
   "source": [
    "# Add our dependencies.\n",
    "import csv\n",
    "import os\n",
    "# Assign a variable to load a file from a path.\n",
    "file_to_load = os.path.join(\"Resources\", \"election_results.csv\")\n",
    "# Assign a variable to save the file to a path.\n",
    "file_to_save = os.path.join(\"analysis\", \"election_analysis.txt\")\n",
    "\n",
    "# Initialize a total vote counter.\n",
    "total_votes = 0\n",
    "\n",
    "# Candidate options and candidate votes\n",
    "candidate_options = []\n",
    "# 1. Declare the empty dictionary.\n",
    "candidate_votes = {}\n",
    "\n",
    "# Open the election results and read the file.\n",
    "with open(file_to_load) as election_data:\n",
    "    file_reader = csv.reader(election_data)\n",
    "\n",
    "    # Read the header row.\n",
    "    headers = next(file_reader)\n",
    "\n",
    "    # Print each row in the CSV file.\n",
    "    for row in file_reader:\n",
    "        # Add to the total vote count.\n",
    "        total_votes += 1\n",
    "\n",
    "        # Print the candidate name from each row.\n",
    "        candidate_name = row[2]\n",
    "\n",
    "        if candidate_name not in candidate_options:\n",
    "\n",
    "            # Add the candidate name to the candidate list.\n",
    "            candidate_options.append(candidate_name)\n",
    "\n",
    "           # Begin tracking that candidate's vote count.\n",
    "            candidate_votes[candidate_name] = 0\n",
    "\n",
    "        # Add a vote to that candidate's count\n",
    "        candidate_votes[candidate_name] += 1\n",
    "\n",
    "\n",
    "# Print the candidate vote dictionary.\n",
    "print(candidate_votes)\n",
    "# Determine the percentage of votes for each candidate by looping through the counts.\n",
    "# Iterate through the candidate list.\n",
    "for candidate_name in candidate_votes:\n",
    "    # Retrieve vote count of a candidate.\n",
    "    votes = candidate_votes[candidate_name]\n",
    "    # Calculate the percentage of votes.\n",
    "    vote_percentage = float(votes) / float(total_votes) * 100\n",
    "\n",
    "    #  To do: print out each candidate's name, vote count, and percentage of\n",
    "    # votes to the terminal.\n",
    "\n",
    "    # Determine winning vote count and candidate\n",
    "    # Determine if the votes is greater than the winning count.\n",
    "    if (votes > winning_count) and (vote_percentage > winning_percentage):\n",
    "         # If true then set winning_count = votes and winning_percent =\n",
    "         # vote_percentage.\n",
    "         winning_count = votes\n",
    "         winning_percentage = round(vote_percentage,1)\n",
    "         # And, set the winning_candidate equal to the candidate's name.\n",
    "         winning_candidate = candidate_name\n",
    "\n",
    "#  To do: print out the winning candidate, vote count and percentage to\n",
    "#   terminal.\n",
    "# To do: print out each candidate's name, vote count, and percentage of\n",
    "# votes to the terminal.\n",
    "print(f\"{candidate_name}: {vote_percentage:.1f}% ({votes:,})\\n\")\n",
    "\n",
    "winning_candidate_summary = (\n",
    "    f\"-------------------------\\n\"\n",
    "    f\"Winner: {winning_candidate}\\n\"\n",
    "    f\"Winning Vote Count: {winning_count:,}\\n\"\n",
    "    f\"Winning Percentage: {winning_percentage:.1f}%\\n\"\n",
    "    f\"-------------------------\\n\")\n",
    "print(winning_candidate_summary)\n"
   ]
  },
  {
   "cell_type": "code",
   "execution_count": 5,
   "metadata": {},
   "outputs": [
    {
     "name": "stdout",
     "output_type": "stream",
     "text": [
      "{'Charles Casper Stockham': 85213, 'Diana DeGette': 272892, 'Raymon Anthony Doane': 11606}\n",
      "Raymon Anthony Doane: 3.1% (11,606)\n",
      "\n",
      "-------------------------\n",
      "Winner: Raymon Anthony Doane\n",
      "Winning Vote Count: 11,606\n",
      "Winning Percentage: 3.1%\n",
      "-------------------------\n",
      "\n"
     ]
    }
   ],
   "source": [
    "# Add our dependencies.\n",
    "import csv\n",
    "import os\n",
    "# Assign a variable to load a file from a path.\n",
    "file_to_load = os.path.join(\"Resources\", \"election_results.csv\")\n",
    "# Assign a variable to save the file to a path.\n",
    "file_to_save = os.path.join(\"analysis\", \"election_analysis.txt\")\n",
    "\n",
    "# Initialize a total vote counter.\n",
    "total_votes = 0\n",
    "\n",
    "# Candidate options and candidate votes\n",
    "candidate_options = []\n",
    "# 1. Declare the empty dictionary.\n",
    "candidate_votes = {}\n",
    "\n",
    "# Open the election results and read the file.\n",
    "with open(file_to_load) as election_data:\n",
    "    file_reader = csv.reader(election_data)\n",
    "\n",
    "    # Read the header row.\n",
    "    headers = next(file_reader)\n",
    "\n",
    "    # Print each row in the CSV file.\n",
    "    for row in file_reader:\n",
    "        # Add to the total vote count.\n",
    "        total_votes += 1\n",
    "\n",
    "        # Print the candidate name from each row.\n",
    "        candidate_name = row[2]\n",
    "\n",
    "        if candidate_name not in candidate_options:\n",
    "\n",
    "            # Add the candidate name to the candidate list.\n",
    "            candidate_options.append(candidate_name)\n",
    "\n",
    "           # Begin tracking that candidate's vote count.\n",
    "            candidate_votes[candidate_name] = 0\n",
    "\n",
    "        # Add a vote to that candidate's count\n",
    "        candidate_votes[candidate_name] += 1\n",
    "\n",
    "\n",
    "# Print the candidate vote dictionary.\n",
    "print(candidate_votes)\n",
    "# Determine the percentage of votes for each candidate by looping through the counts.\n",
    "# Iterate through the candidate list.\n",
    "for candidate_name in candidate_votes:\n",
    "    # Retrieve vote count of a candidate.\n",
    "    votes = candidate_votes[candidate_name]\n",
    "    # Calculate the percentage of votes.\n",
    "    vote_percentage = float(votes) / float(total_votes) * 100\n",
    "\n",
    "    #  To do: print out each candidate's name, vote count, and percentage of\n",
    "    # votes to the terminal.\n",
    "\n",
    "# Winning Candidate and Winning Count Tracker\n",
    "winning_candidate = \"\"\n",
    "winning_count = 0\n",
    "winning_percentage = 0\n",
    "# Determine winning vote count and candidate\n",
    "# 1. Determine if the votes are greater than the winning count.\n",
    "if (votes > winning_count) and (vote_percentage > winning_percentage):\n",
    "     # 2. If true then set winning_count = votes and winning_percent =\n",
    "     # vote_percentage.\n",
    "     winning_count = votes\n",
    "     winning_percentage = round(vote_percentage,1)\n",
    "     # 3. Set the winning_candidate equal to the candidate's name.\n",
    "     winning_candidate = candidate_name\n",
    "    \n",
    "#  To do: print out the winning candidate, vote count and percentage to\n",
    "#   terminal.\n",
    "# To do: print out each candidate's name, vote count, and percentage of\n",
    "# votes to the terminal.\n",
    "print(f\"{candidate_name}: {vote_percentage:.1f}% ({votes:,})\\n\")\n",
    "\n",
    "winning_candidate_summary = (\n",
    "    f\"-------------------------\\n\"\n",
    "    f\"Winner: {winning_candidate}\\n\"\n",
    "    f\"Winning Vote Count: {winning_count:,}\\n\"\n",
    "    f\"Winning Percentage: {winning_percentage:.1f}%\\n\"\n",
    "    f\"-------------------------\\n\")\n",
    "print(winning_candidate_summary)\n",
    "\n",
    "    "
   ]
  },
  {
   "cell_type": "code",
   "execution_count": null,
   "metadata": {},
   "outputs": [],
   "source": []
  }
 ],
 "metadata": {
  "kernelspec": {
   "display_name": "Python 3",
   "language": "python",
   "name": "python3"
  },
  "language_info": {
   "codemirror_mode": {
    "name": "ipython",
    "version": 3
   },
   "file_extension": ".py",
   "mimetype": "text/x-python",
   "name": "python",
   "nbconvert_exporter": "python",
   "pygments_lexer": "ipython3",
   "version": "3.8.5"
  }
 },
 "nbformat": 4,
 "nbformat_minor": 4
}
