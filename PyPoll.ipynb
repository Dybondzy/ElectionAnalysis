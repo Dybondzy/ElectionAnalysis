{
 "cells": [
  {
   "cell_type": "code",
   "execution_count": 1,
   "metadata": {},
   "outputs": [
    {
     "name": "stdout",
     "output_type": "stream",
     "text": [
      "The time right now is  2021-03-05 23:11:40.705344\n",
      "<_io.TextIOWrapper name='Resources/election_results.csv' mode='r' encoding='cp1252'>\n"
     ]
    }
   ],
   "source": [
    "# In this project, our final Python script will need to be able to deliver the following information when the script is run: \n",
    "\n",
    "# Total number of votes cast\n",
    "# A complete list of candidates who received votes\n",
    "# Total number of votes each candidate received\n",
    "# Percentage of votes each candidate won\n",
    "# The winner of the election based on popular vote\n",
    "\n",
    "# Import the datetime class from the datetime module.\n",
    "import datetime\n",
    "# Use the now() attribute on the datetime class to get the present time.\n",
    "now = datetime.datetime.now()\n",
    "# Print the present time.\n",
    "print(\"The time right now is \", now)\n",
    "\n",
    "# Assign a variable for the file to load and the path.\n",
    "file_to_load = 'Resources/election_results.csv'\n",
    "\n",
    "# Open the election results and read the file.\n",
    "election_data = open(file_to_load, 'r')\n",
    "\n",
    "# To do: perform analysis.\n",
    "\n",
    "     # To do: perform analysis.\n",
    "print(election_data)\n",
    "    \n",
    "    \n",
    "# Close the file.\n",
    "election_data.close()"
   ]
  },
  {
   "cell_type": "code",
   "execution_count": 2,
   "metadata": {},
   "outputs": [
    {
     "name": "stdout",
     "output_type": "stream",
     "text": [
      "<_io.TextIOWrapper name='Resources\\\\election_results.csv' mode='r' encoding='cp1252'>\n"
     ]
    }
   ],
   "source": [
    "import csv\n",
    "import os\n",
    "# Assign a variable for the file to load and the path.\n",
    "file_to_load = os.path.join(\"Resources\", \"election_results.csv\")\n",
    "# Open the election results and read the file.\n",
    "with open(file_to_load) as election_data:\n",
    "\n",
    "    # Print the file object.\n",
    "     print(election_data)"
   ]
  },
  {
   "cell_type": "code",
   "execution_count": null,
   "metadata": {},
   "outputs": [],
   "source": [
    "# Add our dependencies.\n",
    "import csv\n",
    "import os\n",
    "# Assign a variable to load a file from a path.\n",
    "file_to_load = os.path.join(\"Resources\", \"election_results.csv\")\n",
    "# Assign a variable to save the file to a path.\n",
    "file_to_save = os.path.join(\"analysis\", \"election_analysis.txt\")\n",
    "\n",
    "# Open the election results and read the file.\n",
    "with open(file_to_load) as election_data:\n",
    "\n",
    "    # To do: read and analyze the data here.\n",
    "        # Read the file object with the reader function.\n",
    "    file_reader = csv.reader(election_data)\n",
    "    \n",
    "        # Print each row in the CSV file.\n",
    "    for row in file_reader:\n",
    "        print(row)"
   ]
  }
 ],
 "metadata": {
  "kernelspec": {
   "display_name": "Python 3",
   "language": "python",
   "name": "python3"
  },
  "language_info": {
   "codemirror_mode": {
    "name": "ipython",
    "version": 3
   },
   "file_extension": ".py",
   "mimetype": "text/x-python",
   "name": "python",
   "nbconvert_exporter": "python",
   "pygments_lexer": "ipython3",
   "version": "3.8.5"
  }
 },
 "nbformat": 4,
 "nbformat_minor": 4
}
